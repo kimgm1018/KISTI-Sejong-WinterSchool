{
  "nbformat": 4,
  "nbformat_minor": 0,
  "metadata": {
    "colab": {
      "name": "[KISTI-세종대-겨울학교] Day2-보스턴집값예측-캐글데이터만들기.ipynb",
      "provenance": [],
      "collapsed_sections": []
    },
    "kernelspec": {
      "name": "python3",
      "display_name": "Python 3"
    }
  },
  "cells": [
    {
      "cell_type": "code",
      "metadata": {
        "id": "bojzG6MX_U3g"
      },
      "source": [
        "from sklearn.datasets import load_boston\n",
        "\n",
        "boston = load_boston() \n",
        "X = boston.data\n",
        "y = boston.target"
      ],
      "execution_count": 1,
      "outputs": []
    },
    {
      "cell_type": "code",
      "metadata": {
        "id": "INBgMVYx_vwc"
      },
      "source": [
        "from sklearn.model_selection import train_test_split\n",
        "X_train, X_test, y_train, y_test = train_test_split(X, y, test_size=0.2, random_state = 1)"
      ],
      "execution_count": 2,
      "outputs": []
    },
    {
      "cell_type": "code",
      "metadata": {
        "id": "dDCuI77NAsNX"
      },
      "source": [
        "import pandas as pd\n",
        "import numpy as np\n",
        "\n",
        "X_train_ = pd.DataFrame(data=X_train,columns=['범죄율','비소매상업지역면적비율','일산화질소농도','주택당방수','인구 중 하위 계층 비율','인구 중 흑인 비율','학생/교사 비율','초과거주 지역비율','강 경계유무','1940년 이전에 건축된 주택비율','방사형 고속도로까지의 거리','직업센터의 거리','재산세율'])\n",
        "y_train_ = pd.DataFrame(data=y_train,columns=['가격'])\n",
        "X_test_ = pd.DataFrame(X_test)\n",
        "y_test_ = pd.DataFrame(data=y_test, columns=['가격'])\n",
        "\n",
        "\n",
        "df1 = pd.DataFrame(pd.concat([X_train_, y_train_],axis=1))\n",
        "df1=df1.sort_index()\n",
        "df1 = df1.rename_axis('index')\n",
        "df1.to_csv('train.csv', sep = ',', index = True)\n",
        "\n",
        "df2 = pd.DataFrame(X_test_)\n",
        "df2=df2.sort_index()\n",
        "df2 = df2.rename_axis('index')\n",
        "df2.to_csv('test.csv', sep = ',', index = True)\n",
        "\n",
        "\n",
        "df3 = pd.DataFrame(y_test_)\n",
        "df3=df3.sort_index()\n",
        "df3 = df3.rename_axis('index')\n",
        "df3.to_csv('solution.csv', sep = ',', index = True)\n",
        "\n",
        "\n",
        "df4 = pd.DataFrame(y_test_)\n",
        "import numpy as np\n",
        "fill = np.zeros(y_test.size, dtype=np.int8)\n",
        "df4['가격'] = fill\n",
        "df4=df4.sort_index()\n",
        "df4 = df4.rename_axis('index')\n",
        "df4.to_csv('sample_submission.csv', sep = ',', index = True)\n"
      ],
      "execution_count": 3,
      "outputs": []
    },
    {
      "cell_type": "code",
      "metadata": {
        "id": "d85aukSKV3Mr",
        "colab": {
          "base_uri": "https://localhost:8080/"
        },
        "outputId": "6d313373-0f57-4a47-aacc-2100f4b7f055"
      },
      "source": [
        "print(X_train_)"
      ],
      "execution_count": 4,
      "outputs": [
        {
          "output_type": "stream",
          "text": [
            "          범죄율  비소매상업지역면적비율  일산화질소농도  ...  방사형 고속도로까지의 거리  직업센터의 거리   재산세율\n",
            "0     0.14150          0.0     6.91  ...            17.9    383.37   5.81\n",
            "1     0.15445         25.0     5.13  ...            19.7    390.68   6.86\n",
            "2    16.81180          0.0    18.10  ...            20.2    396.90  30.81\n",
            "3     0.05646          0.0    12.83  ...            18.7    386.40  12.34\n",
            "4     8.79212          0.0    18.10  ...            20.2      3.65  17.16\n",
            "..        ...          ...      ...  ...             ...       ...    ...\n",
            "399   0.03548         80.0     3.64  ...            16.4    395.18   9.25\n",
            "400   0.09164          0.0    10.81  ...            19.2    390.91   5.52\n",
            "401   5.87205          0.0    18.10  ...            20.2    396.90  19.37\n",
            "402   0.33045          0.0     6.20  ...            17.4    376.75  10.88\n",
            "403   0.08014          0.0     5.96  ...            19.2    396.90   8.77\n",
            "\n",
            "[404 rows x 13 columns]\n"
          ],
          "name": "stdout"
        }
      ]
    },
    {
      "cell_type": "code",
      "metadata": {
        "colab": {
          "base_uri": "https://localhost:8080/"
        },
        "id": "pu_wqK6CBDrW",
        "outputId": "68ae0c9c-f8af-464f-f10e-059b9e223d61"
      },
      "source": [
        "print(y_train_)"
      ],
      "execution_count": 5,
      "outputs": [
        {
          "output_type": "stream",
          "text": [
            "       가격\n",
            "0    25.3\n",
            "1    23.3\n",
            "2     7.2\n",
            "3    21.2\n",
            "4    11.7\n",
            "..    ...\n",
            "399  20.9\n",
            "400  22.8\n",
            "401  12.5\n",
            "402  24.0\n",
            "403  21.0\n",
            "\n",
            "[404 rows x 1 columns]\n"
          ],
          "name": "stdout"
        }
      ]
    },
    {
      "cell_type": "code",
      "metadata": {
        "id": "M9NVuPwUBGYe"
      },
      "source": [
        ""
      ],
      "execution_count": 5,
      "outputs": []
    }
  ]
}