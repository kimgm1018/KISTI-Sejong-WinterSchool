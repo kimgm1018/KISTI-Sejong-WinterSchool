{
  "nbformat": 4,
  "nbformat_minor": 0,
  "metadata": {
    "colab": {
      "name": "[KISTI-세종대-겨울학교] Day2-보스턴집값예측-캐글데이터만들기.ipynb",
      "provenance": [],
      "collapsed_sections": []
    },
    "kernelspec": {
      "name": "python3",
      "display_name": "Python 3"
    }
  },
  "cells": [
    {
      "cell_type": "code",
      "metadata": {
        "id": "bojzG6MX_U3g"
      },
      "source": [
        "from sklearn.datasets import load_boston\n",
        "\n",
        "boston = load_boston() \n",
        "X = boston.data\n",
        "y = boston.target"
      ],
      "execution_count": 1,
      "outputs": []
    },
    {
      "cell_type": "code",
      "metadata": {
        "id": "INBgMVYx_vwc"
      },
      "source": [
        "from sklearn.model_selection import train_test_split\n",
        "X_train, X_test, y_train, y_test = train_test_split(X, y, test_size=0.2, random_state = 1)"
      ],
      "execution_count": 2,
      "outputs": []
    },
    {
      "cell_type": "code",
      "metadata": {
        "id": "dDCuI77NAsNX"
      },
      "source": [
        "import pandas as pd\n",
        "import numpy as np\n",
        "\n",
        "X_train_ = pd.DataFrame(X_train)\n",
        "y_train_ = pd.DataFrame(data=y_train,columns=['label'])\n",
        "X_test_ = pd.DataFrame(X_test)\n",
        "y_test_ = pd.DataFrame(data=y_test, columns=['label'])\n",
        "\n",
        "\n",
        "df1 = pd.DataFrame(pd.concat([X_train_, y_train_],axis=1))\n",
        "df1=df1.sort_index()\n",
        "df1 = df1.rename_axis('index')\n",
        "df1.to_csv('train.csv', sep = ',', index = True)\n",
        "\n",
        "df2 = pd.DataFrame(X_test_)\n",
        "df2=df2.sort_index()\n",
        "df2 = df2.rename_axis('index')\n",
        "df2.to_csv('test.csv', sep = ',', index = True)\n",
        "\n",
        "\n",
        "df3 = pd.DataFrame(y_test_)\n",
        "df3=df3.sort_index()\n",
        "df3 = df3.rename_axis('index')\n",
        "df3.to_csv('solution.csv', sep = ',', index = True)\n",
        "\n",
        "\n",
        "df4 = pd.DataFrame(y_test_)\n",
        "import numpy as np\n",
        "fill = np.zeros(y_test.size, dtype=np.int8)\n",
        "df4['label'] = fill\n",
        "df4=df4.sort_index()\n",
        "df4 = df4.rename_axis('index')\n",
        "df4.to_csv('sample_submission.csv', sep = ',', index = True)\n"
      ],
      "execution_count": 3,
      "outputs": []
    },
    {
      "cell_type": "code",
      "metadata": {
        "id": "d85aukSKV3Mr"
      },
      "source": [
        ""
      ],
      "execution_count": 3,
      "outputs": []
    }
  ]
}